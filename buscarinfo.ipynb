{
 "cells": [
  {
   "cell_type": "code",
   "execution_count": 90,
   "metadata": {},
   "outputs": [],
   "source": [
    "from selenium import webdriver\n",
    "from selenium.webdriver.common.by import By\n",
    "from selenium.webdriver.common.keys import Keys\n",
    "from selenium.webdriver.support.ui import WebDriverWait\n",
    "from selenium.webdriver.support import expected_conditions as EC\n",
    "import time\n",
    "\n",
    "# Configurar o driver do Chrome\n",
    "driver = webdriver.Chrome()\n",
    "\n",
    "# Abrir o navegador e acessar a página\n",
    "driver.get('http://10.0.1.240:4000')\n",
    "driver.maximize_window()\n",
    "\n",
    "# Identificar os campos de login\n",
    "usuario = WebDriverWait(driver, 30).until(\n",
    "    EC.presence_of_element_located((By.CSS_SELECTOR, 'input[formcontrolname=\"username\"]'))\n",
    ")\n",
    "senha = driver.find_element(By.CSS_SELECTOR, 'input[formcontrolname=\"password\"]')\n",
    "\n",
    "# Realizar login\n",
    "usuario.clear()\n",
    "usuario.send_keys('20237527000141')\n",
    "senha.clear()\n",
    "senha.send_keys('20237527000141')\n",
    "senha.send_keys(Keys.ENTER)\n",
    "\n"
   ]
  },
  {
   "cell_type": "code",
   "execution_count": 91,
   "metadata": {},
   "outputs": [],
   "source": [
    "menucadastros = WebDriverWait(driver, 40).until(\n",
    "        EC.presence_of_element_located((By.CSS_SELECTOR, 'app-menu > ul > li:nth-child(2) > a'))\n",
    "    )\n",
    "menucadastros.click()\n",
    "    \n",
    "submenuempresas = WebDriverWait(driver, 40).until(\n",
    "        EC.element_to_be_clickable((By.CSS_SELECTOR, 'a[href=\"#/registration/notificationTypes\"]'))\n",
    "    )\n",
    "submenuempresas.click()\n",
    "\n",
    "time.sleep(3)\n",
    "\n",
    "# Clicar no botão \"Novo\" usando o texto do botão\n",
    "novonotificação = WebDriverWait(driver, 20).until(\n",
    "    EC.element_to_be_clickable((By.XPATH, '//span[text()=\"Novo\"]'))\n",
    ")\n",
    "novonotificação.click()"
   ]
  },
  {
   "cell_type": "code",
   "execution_count": 95,
   "metadata": {},
   "outputs": [
    {
     "ename": "KeyboardInterrupt",
     "evalue": "",
     "output_type": "error",
     "traceback": [
      "\u001b[1;31m---------------------------------------------------------------------------\u001b[0m",
      "\u001b[1;31mKeyboardInterrupt\u001b[0m                         Traceback (most recent call last)",
      "Cell \u001b[1;32mIn[95], line 39\u001b[0m\n\u001b[0;32m     35\u001b[0m gravarnotificação\u001b[38;5;241m.\u001b[39mclick()\n\u001b[0;32m     37\u001b[0m \u001b[38;5;28;01mtry\u001b[39;00m:\n\u001b[0;32m     38\u001b[0m         \u001b[38;5;66;03m# Esperar pela mensagem de sucesso\u001b[39;00m\n\u001b[1;32m---> 39\u001b[0m         cadastro_salvo \u001b[38;5;241m=\u001b[39m \u001b[43mWebDriverWait\u001b[49m\u001b[43m(\u001b[49m\u001b[43mdriver\u001b[49m\u001b[43m,\u001b[49m\u001b[43m \u001b[49m\u001b[38;5;241;43m40\u001b[39;49m\u001b[43m)\u001b[49m\u001b[38;5;241;43m.\u001b[39;49m\u001b[43muntil\u001b[49m\u001b[43m(\u001b[49m\n\u001b[0;32m     40\u001b[0m \u001b[43m            \u001b[49m\u001b[43mEC\u001b[49m\u001b[38;5;241;43m.\u001b[39;49m\u001b[43mvisibility_of_element_located\u001b[49m\u001b[43m(\u001b[49m\u001b[43m(\u001b[49m\u001b[43mBy\u001b[49m\u001b[38;5;241;43m.\u001b[39;49m\u001b[43mCSS_SELECTOR\u001b[49m\u001b[43m,\u001b[49m\u001b[43m \u001b[49m\u001b[38;5;124;43m'\u001b[39;49m\u001b[38;5;124;43mbody > app-root > app-content-layout > div > div.layout-main > div > p-messages > div > div > div > span.p-message-summary.ng-tns-c124-1.ng-star-inserted\u001b[39;49m\u001b[38;5;124;43m'\u001b[39;49m\u001b[43m)\u001b[49m\u001b[43m)\u001b[49m\n\u001b[0;32m     41\u001b[0m \u001b[43m        \u001b[49m\u001b[43m)\u001b[49m\n\u001b[0;32m     42\u001b[0m         \u001b[38;5;66;03m# Verificar o texto da mensagem de sucesso\u001b[39;00m\n\u001b[0;32m     43\u001b[0m         \u001b[38;5;28;01massert\u001b[39;00m \u001b[38;5;124m\"\u001b[39m\u001b[38;5;124mRegistro gravado com sucesso!\u001b[39m\u001b[38;5;124m\"\u001b[39m \u001b[38;5;129;01min\u001b[39;00m cadastro_salvo\u001b[38;5;241m.\u001b[39mtext\n",
      "File \u001b[1;32mc:\\AutoTester\\venv\\Lib\\site-packages\\selenium\\webdriver\\support\\wait.py:102\u001b[0m, in \u001b[0;36mWebDriverWait.until\u001b[1;34m(self, method, message)\u001b[0m\n\u001b[0;32m    100\u001b[0m     screen \u001b[38;5;241m=\u001b[39m \u001b[38;5;28mgetattr\u001b[39m(exc, \u001b[38;5;124m\"\u001b[39m\u001b[38;5;124mscreen\u001b[39m\u001b[38;5;124m\"\u001b[39m, \u001b[38;5;28;01mNone\u001b[39;00m)\n\u001b[0;32m    101\u001b[0m     stacktrace \u001b[38;5;241m=\u001b[39m \u001b[38;5;28mgetattr\u001b[39m(exc, \u001b[38;5;124m\"\u001b[39m\u001b[38;5;124mstacktrace\u001b[39m\u001b[38;5;124m\"\u001b[39m, \u001b[38;5;28;01mNone\u001b[39;00m)\n\u001b[1;32m--> 102\u001b[0m \u001b[43mtime\u001b[49m\u001b[38;5;241;43m.\u001b[39;49m\u001b[43msleep\u001b[49m\u001b[43m(\u001b[49m\u001b[38;5;28;43mself\u001b[39;49m\u001b[38;5;241;43m.\u001b[39;49m\u001b[43m_poll\u001b[49m\u001b[43m)\u001b[49m\n\u001b[0;32m    103\u001b[0m \u001b[38;5;28;01mif\u001b[39;00m time\u001b[38;5;241m.\u001b[39mmonotonic() \u001b[38;5;241m>\u001b[39m end_time:\n\u001b[0;32m    104\u001b[0m     \u001b[38;5;28;01mbreak\u001b[39;00m\n",
      "\u001b[1;31mKeyboardInterrupt\u001b[0m: "
     ]
    }
   ],
   "source": [
    "# Identificar o campo nome do formulário\n",
    "nome = WebDriverWait(driver, 10).until(\n",
    "    EC.presence_of_element_located((By.CSS_SELECTOR, 'input[formcontrolname=\"name\"]'))\n",
    ")\n",
    "# Preenchendo o campo nome\n",
    "nome.send_keys('NOTIFICAÇÃO')\n",
    "\n",
    "# Identificar o campo destinatários do formulário\n",
    "destinatarios = WebDriverWait(driver, 10).until(\n",
    "    EC.presence_of_element_located((By.CSS_SELECTOR, 'app-auto-complete-advanced > div > div.p-col-10 > p-autocomplete > span > button.p-autocomplete-dropdown'))\n",
    ")\n",
    "# Clicar no campo destinatário\n",
    "destinatarios.click()\n",
    "time.sleep(5)\n",
    "\n",
    "#Identificar o umas das opções do campo destinatários do formulário\n",
    "\n",
    "destinatarios_options = WebDriverWait(driver, 10).until(\n",
    "    EC.presence_of_element_located((By.CSS_SELECTOR, 'div > div:nth-child(2) > div.p-formgroup-inline.ng-star-inserted > div.p-col-12.p-lg-6.p-col-nogutter > app-auto-complete-advanced > div > div.p-col-nogutter.p-col-10 > p-autocomplete > span > ul'))\n",
    ")\n",
    "# Clicar em uma das opções destinatário\n",
    "destinatarios_options.click()\n",
    "\n",
    "\n",
    "#Identificar o botão adicionar\n",
    "adicionaruser = WebDriverWait(driver, 20).until(\n",
    "    EC.presence_of_element_located((By.CSS_SELECTOR, 'div:nth-child(2) > div.p-formgroup-inline.ng-star-inserted > div.nopad-button-advanced.p-col-12.p-lg-6 > p-button > button'))\n",
    ")\n",
    "# Clicar em uma das opções destinatário\n",
    "adicionaruser .click()\n",
    "\n",
    "gravarnotificação = WebDriverWait(driver, 40).until(\n",
    "        EC.element_to_be_clickable((By.XPATH, '//span[text()=\"Gravar\"]'))\n",
    "    )\n",
    "gravarnotificação.click()\n",
    "\n",
    "try:\n",
    "        # Esperar pela mensagem de sucesso\n",
    "        cadastro_salvo = WebDriverWait(driver, 40).until(\n",
    "            EC.visibility_of_element_located((By.CSS_SELECTOR, 'body > app-root > app-content-layout > div > div.layout-main > div > p-messages > div > div > div > span.p-message-summary.ng-tns-c124-1.ng-star-inserted'))\n",
    "        )\n",
    "        # Verificar o texto da mensagem de sucesso\n",
    "        assert \"Registro gravado com sucesso!\" in cadastro_salvo.text\n",
    "        print(\"Mensagem de cadastro realizado com sucesso!\")\n",
    "except Exception as e:\n",
    "        print(\"A mensagem não foi encontrada ou o texto não corresponde:\", str(e))\n",
    "\n",
    "\n"
   ]
  },
  {
   "cell_type": "code",
   "execution_count": 60,
   "metadata": {},
   "outputs": [],
   "source": [
    "#Identificar o botão adicionar\n",
    "adicionaruser = WebDriverWait(driver, 5).until(\n",
    "    EC.presence_of_element_located((By.CSS_SELECTOR, 'div:nth-child(2) > div.p-formgroup-inline.ng-star-inserted > div.nopad-button-advanced.p-col-12.p-lg-6 > p-button > button'))\n",
    ")\n",
    "# Clicar em uma das opções destinatário\n",
    "adicionaruser .click()"
   ]
  },
  {
   "cell_type": "code",
   "execution_count": 89,
   "metadata": {},
   "outputs": [],
   "source": [
    "# Identificar o campo nome do formulário\n",
    "nome = WebDriverWait(driver, 10).until(\n",
    "    EC.presence_of_element_located((By.CSS_SELECTOR, 'input[formcontrolname=\"name\"]'))\n",
    ")\n",
    "# Preenchendo o campo nome\n",
    "nome.send_keys('NOTIFICAÇÃO')\n",
    "\n",
    "# Identificar o campo destinatários do formulário\n",
    "destinatarios = WebDriverWait(driver, 10).until(\n",
    "    EC.presence_of_element_located((By.CSS_SELECTOR, 'app-auto-complete-advanced > div > div.p-col-10 > p-autocomplete > span > button.p-autocomplete-dropdown'))\n",
    ")\n",
    "# Clicar no campo destinatário\n",
    "destinatarios.click()\n",
    "\n",
    "\n",
    "#Identificar o umas das opções do campo destinatários do formulário\n",
    "\n",
    "destinatarios_options = WebDriverWait(driver, 10).until(\n",
    "    EC.presence_of_element_located((By.CSS_SELECTOR, 'div > div:nth-child(2) > div.p-formgroup-inline.ng-star-inserted > div.p-col-12.p-lg-6.p-col-nogutter > app-auto-complete-advanced > div > div.p-col-nogutter.p-col-10 > p-autocomplete > span > ul'))\n",
    ")\n",
    "# Clicar em uma das opções destinatário\n",
    "destinatarios_options.click()"
   ]
  }
 ],
 "metadata": {
  "kernelspec": {
   "display_name": "venv",
   "language": "python",
   "name": "python3"
  },
  "language_info": {
   "codemirror_mode": {
    "name": "ipython",
    "version": 3
   },
   "file_extension": ".py",
   "mimetype": "text/x-python",
   "name": "python",
   "nbconvert_exporter": "python",
   "pygments_lexer": "ipython3",
   "version": "3.12.3"
  }
 },
 "nbformat": 4,
 "nbformat_minor": 2
}
