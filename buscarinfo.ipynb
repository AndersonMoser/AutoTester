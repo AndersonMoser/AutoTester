{
 "cells": [
  {
   "cell_type": "code",
   "execution_count": 1,
   "metadata": {},
   "outputs": [
    {
     "name": "stdout",
     "output_type": "stream",
     "text": [
      "Requirement already satisfied: selenium in .\\venv\\lib\\site-packages (4.22.0)\n",
      "Requirement already satisfied: urllib3<3,>=1.26 in .\\venv\\lib\\site-packages (from urllib3[socks]<3,>=1.26->selenium) (2.2.2)\n",
      "Requirement already satisfied: trio~=0.17 in .\\venv\\lib\\site-packages (from selenium) (0.26.0)\n",
      "Requirement already satisfied: trio-websocket~=0.9 in .\\venv\\lib\\site-packages (from selenium) (0.11.1)\n",
      "Requirement already satisfied: certifi>=2021.10.8 in .\\venv\\lib\\site-packages (from selenium) (2024.7.4)\n",
      "Requirement already satisfied: typing_extensions>=4.9.0 in .\\venv\\lib\\site-packages (from selenium) (4.12.2)\n",
      "Requirement already satisfied: websocket-client>=1.8.0 in .\\venv\\lib\\site-packages (from selenium) (1.8.0)\n",
      "Requirement already satisfied: attrs>=23.2.0 in .\\venv\\lib\\site-packages (from trio~=0.17->selenium) (23.2.0)\n",
      "Requirement already satisfied: sortedcontainers in .\\venv\\lib\\site-packages (from trio~=0.17->selenium) (2.4.0)\n",
      "Requirement already satisfied: idna in .\\venv\\lib\\site-packages (from trio~=0.17->selenium) (3.7)\n",
      "Requirement already satisfied: outcome in .\\venv\\lib\\site-packages (from trio~=0.17->selenium) (1.3.0.post0)\n",
      "Requirement already satisfied: sniffio>=1.3.0 in .\\venv\\lib\\site-packages (from trio~=0.17->selenium) (1.3.1)\n",
      "Requirement already satisfied: cffi>=1.14 in .\\venv\\lib\\site-packages (from trio~=0.17->selenium) (1.16.0)\n",
      "Requirement already satisfied: wsproto>=0.14 in .\\venv\\lib\\site-packages (from trio-websocket~=0.9->selenium) (1.2.0)\n",
      "Requirement already satisfied: pysocks!=1.5.7,<2.0,>=1.5.6 in .\\venv\\lib\\site-packages (from urllib3[socks]<3,>=1.26->selenium) (1.7.1)\n",
      "Requirement already satisfied: pycparser in .\\venv\\lib\\site-packages (from cffi>=1.14->trio~=0.17->selenium) (2.22)\n",
      "Requirement already satisfied: h11<1,>=0.9.0 in .\\venv\\lib\\site-packages (from wsproto>=0.14->trio-websocket~=0.9->selenium) (0.14.0)\n"
     ]
    },
    {
     "name": "stderr",
     "output_type": "stream",
     "text": [
      "\n",
      "[notice] A new release of pip is available: 24.0 -> 24.1.2\n",
      "[notice] To update, run: python.exe -m pip install --upgrade pip\n"
     ]
    }
   ],
   "source": []
  },
  {
   "cell_type": "code",
   "execution_count": 42,
   "metadata": {},
   "outputs": [],
   "source": [
    "from selenium import webdriver\n",
    "from selenium.webdriver.common.by import By      #importar para pegar os ids dos componentes\n",
    "from selenium.webdriver.common.keys import Keys  #importar as teclas\n",
    "from selenium.webdriver.support.ui import Select #selecionar dropdows\n",
    "from selenium.webdriver.chrome.service import Service as ChromeService\n",
    "\n",
    "driver = webdriver.Chrome()"
   ]
  },
  {
   "cell_type": "code",
   "execution_count": 43,
   "metadata": {},
   "outputs": [],
   "source": [
    "driver.get('http://10.0.2.193:4000')\n",
    "driver.maximize_window()"
   ]
  },
  {
   "cell_type": "code",
   "execution_count": 45,
   "metadata": {},
   "outputs": [],
   "source": [
    "usuario = driver.find_element(By.CSS_SELECTOR, 'input[formcontrolname=\"username\"]')\n",
    "senha = driver.find_element(By.CSS_SELECTOR, 'input[formcontrolname=\"password\"]')\n",
    "\n"
   ]
  },
  {
   "cell_type": "code",
   "execution_count": 46,
   "metadata": {},
   "outputs": [],
   "source": [
    "usuario.clear()\n",
    "usuario.send_keys('05573761900')\n",
    "senha.clear()\n",
    "senha.send_keys('791536aA')\n",
    "senha.send_keys(Keys.ENTER)"
   ]
  },
  {
   "cell_type": "code",
   "execution_count": 69,
   "metadata": {},
   "outputs": [],
   "source": [
    "dropdown = driver.find_element(By.CSS_SELECTOR, 'span.ng-tns-c64-97.p-dropdown-label.p-inputtext.p-placeholder.ng-star-inserted')\n",
    "dropdown.click()\n",
    "dropdown = driver.find_element(By.CSS_SELECTOR, 'p-dropdownitem:nth-child(24) > li > span')\n",
    "dropdown.click()\n"
   ]
  },
  {
   "cell_type": "code",
   "execution_count": null,
   "metadata": {},
   "outputs": [],
   "source": [
    "dropdown = driver.find_element(By.CSS_SELECTOR, 'body > app-root > app-content-layout > div > div.layout-main > div > app-company-edit > app-edit > div.ng-star-inserted > fieldset > div > div > div:nth-child(5) > div.p-col-12.p-md-12 > div:nth-child(2) > p-dropdown > div > div.ng-trigger.ng-trigger-overlayAnimation.ng-tns-c64-97.p-dropdown-panel.p-component.ng-star-inserted > div.p-dropdown-items-wrapper.ng-tns-c64-97 > ul > p-dropdownitem:nth-child(8) > li > span')\n",
    "dropdown.click()\n"
   ]
  },
  {
   "cell_type": "code",
   "execution_count": 194,
   "metadata": {},
   "outputs": [
    {
     "ename": "NoSuchWindowException",
     "evalue": "Message: no such window: target window already closed\nfrom unknown error: web view not found\n  (Session info: chrome=126.0.6478.127)\nStacktrace:\n\tGetHandleVerifier [0x00007FF6AE2DEEA2+31554]\n\t(No symbol) [0x00007FF6AE257ED9]\n\t(No symbol) [0x00007FF6AE11872A]\n\t(No symbol) [0x00007FF6AE0ED995]\n\t(No symbol) [0x00007FF6AE1944D7]\n\t(No symbol) [0x00007FF6AE1AC051]\n\t(No symbol) [0x00007FF6AE18CDD3]\n\t(No symbol) [0x00007FF6AE15A33B]\n\t(No symbol) [0x00007FF6AE15AED1]\n\tGetHandleVerifier [0x00007FF6AE5E8B1D+3217341]\n\tGetHandleVerifier [0x00007FF6AE635AE3+3532675]\n\tGetHandleVerifier [0x00007FF6AE62B0E0+3489152]\n\tGetHandleVerifier [0x00007FF6AE38E776+750614]\n\t(No symbol) [0x00007FF6AE26375F]\n\t(No symbol) [0x00007FF6AE25EB14]\n\t(No symbol) [0x00007FF6AE25ECA2]\n\t(No symbol) [0x00007FF6AE24E16F]\n\tBaseThreadInitThunk [0x00007FFB7D0D7374+20]\n\tRtlUserThreadStart [0x00007FFB7D77CC91+33]\n",
     "output_type": "error",
     "traceback": [
      "\u001b[1;31m---------------------------------------------------------------------------\u001b[0m",
      "\u001b[1;31mNoSuchWindowException\u001b[0m                     Traceback (most recent call last)",
      "Cell \u001b[1;32mIn[194], line 1\u001b[0m\n\u001b[1;32m----> 1\u001b[0m novoempresa \u001b[38;5;241m=\u001b[39m \u001b[43mdriver\u001b[49m\u001b[38;5;241;43m.\u001b[39;49m\u001b[43mfind_element\u001b[49m\u001b[43m(\u001b[49m\u001b[43mBy\u001b[49m\u001b[38;5;241;43m.\u001b[39;49m\u001b[43mCSS_SELECTOR\u001b[49m\u001b[43m,\u001b[49m\u001b[43m \u001b[49m\u001b[38;5;124;43m'\u001b[39;49m\u001b[38;5;124;43mbody > app-root > app-content-layout > div > div.layout-main > div > app-company-list > app-list > div > app-toolbar > div > p-toolbar > div > div.p-toolbar-group-left > button:nth-child(2)\u001b[39;49m\u001b[38;5;124;43m'\u001b[39;49m\u001b[43m)\u001b[49m\n\u001b[0;32m      2\u001b[0m novoempresa\u001b[38;5;241m.\u001b[39mclick()\n",
      "File \u001b[1;32mc:\\automação\\venv\\Lib\\site-packages\\selenium\\webdriver\\remote\\webdriver.py:748\u001b[0m, in \u001b[0;36mWebDriver.find_element\u001b[1;34m(self, by, value)\u001b[0m\n\u001b[0;32m    745\u001b[0m     by \u001b[38;5;241m=\u001b[39m By\u001b[38;5;241m.\u001b[39mCSS_SELECTOR\n\u001b[0;32m    746\u001b[0m     value \u001b[38;5;241m=\u001b[39m \u001b[38;5;124mf\u001b[39m\u001b[38;5;124m'\u001b[39m\u001b[38;5;124m[name=\u001b[39m\u001b[38;5;124m\"\u001b[39m\u001b[38;5;132;01m{\u001b[39;00mvalue\u001b[38;5;132;01m}\u001b[39;00m\u001b[38;5;124m\"\u001b[39m\u001b[38;5;124m]\u001b[39m\u001b[38;5;124m'\u001b[39m\n\u001b[1;32m--> 748\u001b[0m \u001b[38;5;28;01mreturn\u001b[39;00m \u001b[38;5;28;43mself\u001b[39;49m\u001b[38;5;241;43m.\u001b[39;49m\u001b[43mexecute\u001b[49m\u001b[43m(\u001b[49m\u001b[43mCommand\u001b[49m\u001b[38;5;241;43m.\u001b[39;49m\u001b[43mFIND_ELEMENT\u001b[49m\u001b[43m,\u001b[49m\u001b[43m \u001b[49m\u001b[43m{\u001b[49m\u001b[38;5;124;43m\"\u001b[39;49m\u001b[38;5;124;43musing\u001b[39;49m\u001b[38;5;124;43m\"\u001b[39;49m\u001b[43m:\u001b[49m\u001b[43m \u001b[49m\u001b[43mby\u001b[49m\u001b[43m,\u001b[49m\u001b[43m \u001b[49m\u001b[38;5;124;43m\"\u001b[39;49m\u001b[38;5;124;43mvalue\u001b[39;49m\u001b[38;5;124;43m\"\u001b[39;49m\u001b[43m:\u001b[49m\u001b[43m \u001b[49m\u001b[43mvalue\u001b[49m\u001b[43m}\u001b[49m\u001b[43m)\u001b[49m[\u001b[38;5;124m\"\u001b[39m\u001b[38;5;124mvalue\u001b[39m\u001b[38;5;124m\"\u001b[39m]\n",
      "File \u001b[1;32mc:\\automação\\venv\\Lib\\site-packages\\selenium\\webdriver\\remote\\webdriver.py:354\u001b[0m, in \u001b[0;36mWebDriver.execute\u001b[1;34m(self, driver_command, params)\u001b[0m\n\u001b[0;32m    352\u001b[0m response \u001b[38;5;241m=\u001b[39m \u001b[38;5;28mself\u001b[39m\u001b[38;5;241m.\u001b[39mcommand_executor\u001b[38;5;241m.\u001b[39mexecute(driver_command, params)\n\u001b[0;32m    353\u001b[0m \u001b[38;5;28;01mif\u001b[39;00m response:\n\u001b[1;32m--> 354\u001b[0m     \u001b[38;5;28;43mself\u001b[39;49m\u001b[38;5;241;43m.\u001b[39;49m\u001b[43merror_handler\u001b[49m\u001b[38;5;241;43m.\u001b[39;49m\u001b[43mcheck_response\u001b[49m\u001b[43m(\u001b[49m\u001b[43mresponse\u001b[49m\u001b[43m)\u001b[49m\n\u001b[0;32m    355\u001b[0m     response[\u001b[38;5;124m\"\u001b[39m\u001b[38;5;124mvalue\u001b[39m\u001b[38;5;124m\"\u001b[39m] \u001b[38;5;241m=\u001b[39m \u001b[38;5;28mself\u001b[39m\u001b[38;5;241m.\u001b[39m_unwrap_value(response\u001b[38;5;241m.\u001b[39mget(\u001b[38;5;124m\"\u001b[39m\u001b[38;5;124mvalue\u001b[39m\u001b[38;5;124m\"\u001b[39m, \u001b[38;5;28;01mNone\u001b[39;00m))\n\u001b[0;32m    356\u001b[0m     \u001b[38;5;28;01mreturn\u001b[39;00m response\n",
      "File \u001b[1;32mc:\\automação\\venv\\Lib\\site-packages\\selenium\\webdriver\\remote\\errorhandler.py:229\u001b[0m, in \u001b[0;36mErrorHandler.check_response\u001b[1;34m(self, response)\u001b[0m\n\u001b[0;32m    227\u001b[0m         alert_text \u001b[38;5;241m=\u001b[39m value[\u001b[38;5;124m\"\u001b[39m\u001b[38;5;124malert\u001b[39m\u001b[38;5;124m\"\u001b[39m]\u001b[38;5;241m.\u001b[39mget(\u001b[38;5;124m\"\u001b[39m\u001b[38;5;124mtext\u001b[39m\u001b[38;5;124m\"\u001b[39m)\n\u001b[0;32m    228\u001b[0m     \u001b[38;5;28;01mraise\u001b[39;00m exception_class(message, screen, stacktrace, alert_text)  \u001b[38;5;66;03m# type: ignore[call-arg]  # mypy is not smart enough here\u001b[39;00m\n\u001b[1;32m--> 229\u001b[0m \u001b[38;5;28;01mraise\u001b[39;00m exception_class(message, screen, stacktrace)\n",
      "\u001b[1;31mNoSuchWindowException\u001b[0m: Message: no such window: target window already closed\nfrom unknown error: web view not found\n  (Session info: chrome=126.0.6478.127)\nStacktrace:\n\tGetHandleVerifier [0x00007FF6AE2DEEA2+31554]\n\t(No symbol) [0x00007FF6AE257ED9]\n\t(No symbol) [0x00007FF6AE11872A]\n\t(No symbol) [0x00007FF6AE0ED995]\n\t(No symbol) [0x00007FF6AE1944D7]\n\t(No symbol) [0x00007FF6AE1AC051]\n\t(No symbol) [0x00007FF6AE18CDD3]\n\t(No symbol) [0x00007FF6AE15A33B]\n\t(No symbol) [0x00007FF6AE15AED1]\n\tGetHandleVerifier [0x00007FF6AE5E8B1D+3217341]\n\tGetHandleVerifier [0x00007FF6AE635AE3+3532675]\n\tGetHandleVerifier [0x00007FF6AE62B0E0+3489152]\n\tGetHandleVerifier [0x00007FF6AE38E776+750614]\n\t(No symbol) [0x00007FF6AE26375F]\n\t(No symbol) [0x00007FF6AE25EB14]\n\t(No symbol) [0x00007FF6AE25ECA2]\n\t(No symbol) [0x00007FF6AE24E16F]\n\tBaseThreadInitThunk [0x00007FFB7D0D7374+20]\n\tRtlUserThreadStart [0x00007FFB7D77CC91+33]\n"
     ]
    }
   ],
   "source": [
    "\n",
    "novoempresa = driver.find_element(By.CSS_SELECTOR, 'body > app-root > app-content-layout > div > div.layout-main > div > app-company-list > app-list > div > app-toolbar > div > p-toolbar > div > div.p-toolbar-group-left > button:nth-child(2)')\n",
    "novoempresa.click()\n",
    "\n"
   ]
  },
  {
   "cell_type": "code",
   "execution_count": 108,
   "metadata": {},
   "outputs": [],
   "source": [
    "submenuempresas = driver.find_element(By.CSS_SELECTOR, 'ul > li.ng-tns-c160-8.ng-star-inserted.active-menuitem > ul > li:nth-child(1) > a')\n",
    "submenuempresas.click()"
   ]
  },
  {
   "cell_type": "code",
   "execution_count": 199,
   "metadata": {},
   "outputs": [
    {
     "ename": "ElementClickInterceptedException",
     "evalue": "Message: element click intercepted: Element <span class=\"ng-tns-c64-43 p-dropdown-label p-inputtext p-placeholder ng-star-inserted\">...</span> is not clickable at point (149, 16). Other element would receive the click: <a href=\"./\" class=\"logo-container\">...</a>\n  (Session info: chrome=126.0.6478.127)\nStacktrace:\n\tGetHandleVerifier [0x00007FF6AE2DEEA2+31554]\n\t(No symbol) [0x00007FF6AE257ED9]\n\t(No symbol) [0x00007FF6AE11872A]\n\t(No symbol) [0x00007FF6AE17012E]\n\t(No symbol) [0x00007FF6AE16DAF2]\n\t(No symbol) [0x00007FF6AE16AF8B]\n\t(No symbol) [0x00007FF6AE16A156]\n\t(No symbol) [0x00007FF6AE15C151]\n\t(No symbol) [0x00007FF6AE18D02A]\n\t(No symbol) [0x00007FF6AE15BA76]\n\t(No symbol) [0x00007FF6AE18D240]\n\t(No symbol) [0x00007FF6AE1AC977]\n\t(No symbol) [0x00007FF6AE18CDD3]\n\t(No symbol) [0x00007FF6AE15A33B]\n\t(No symbol) [0x00007FF6AE15AED1]\n\tGetHandleVerifier [0x00007FF6AE5E8B1D+3217341]\n\tGetHandleVerifier [0x00007FF6AE635AE3+3532675]\n\tGetHandleVerifier [0x00007FF6AE62B0E0+3489152]\n\tGetHandleVerifier [0x00007FF6AE38E776+750614]\n\t(No symbol) [0x00007FF6AE26375F]\n\t(No symbol) [0x00007FF6AE25EB14]\n\t(No symbol) [0x00007FF6AE25ECA2]\n\t(No symbol) [0x00007FF6AE24E16F]\n\tBaseThreadInitThunk [0x00007FFB7D0D7374+20]\n\tRtlUserThreadStart [0x00007FFB7D77CC91+33]\n",
     "output_type": "error",
     "traceback": [
      "\u001b[1;31m---------------------------------------------------------------------------\u001b[0m",
      "\u001b[1;31mElementClickInterceptedException\u001b[0m          Traceback (most recent call last)",
      "Cell \u001b[1;32mIn[199], line 64\u001b[0m\n\u001b[0;32m     60\u001b[0m \u001b[38;5;66;03m# Selecionar estado\u001b[39;00m\n\u001b[0;32m     61\u001b[0m uf \u001b[38;5;241m=\u001b[39m WebDriverWait(driver, \u001b[38;5;241m20\u001b[39m)\u001b[38;5;241m.\u001b[39muntil(\n\u001b[0;32m     62\u001b[0m     EC\u001b[38;5;241m.\u001b[39mpresence_of_element_located((By\u001b[38;5;241m.\u001b[39mCSS_SELECTOR, \u001b[38;5;124m'\u001b[39m\u001b[38;5;124mdiv:nth-child(5) > div.p-col-12.p-md-12 > div:nth-child(2) > p-dropdown > div > span\u001b[39m\u001b[38;5;124m'\u001b[39m))\n\u001b[0;32m     63\u001b[0m )\n\u001b[1;32m---> 64\u001b[0m \u001b[43muf\u001b[49m\u001b[38;5;241;43m.\u001b[39;49m\u001b[43mclick\u001b[49m\u001b[43m(\u001b[49m\u001b[43m)\u001b[49m\n\u001b[0;32m     65\u001b[0m uf_option \u001b[38;5;241m=\u001b[39m WebDriverWait(driver, \u001b[38;5;241m20\u001b[39m)\u001b[38;5;241m.\u001b[39muntil(\n\u001b[0;32m     66\u001b[0m     EC\u001b[38;5;241m.\u001b[39mpresence_of_element_located((By\u001b[38;5;241m.\u001b[39mCSS_SELECTOR, \u001b[38;5;124m'\u001b[39m\u001b[38;5;124mp-dropdownitem:nth-child(24) > li > span\u001b[39m\u001b[38;5;124m'\u001b[39m))\n\u001b[0;32m     67\u001b[0m )\n\u001b[0;32m     68\u001b[0m uf_option\u001b[38;5;241m.\u001b[39mclick()\n",
      "File \u001b[1;32mc:\\automação\\venv\\Lib\\site-packages\\selenium\\webdriver\\remote\\webelement.py:94\u001b[0m, in \u001b[0;36mWebElement.click\u001b[1;34m(self)\u001b[0m\n\u001b[0;32m     92\u001b[0m \u001b[38;5;28;01mdef\u001b[39;00m \u001b[38;5;21mclick\u001b[39m(\u001b[38;5;28mself\u001b[39m) \u001b[38;5;241m-\u001b[39m\u001b[38;5;241m>\u001b[39m \u001b[38;5;28;01mNone\u001b[39;00m:\n\u001b[0;32m     93\u001b[0m \u001b[38;5;250m    \u001b[39m\u001b[38;5;124;03m\"\"\"Clicks the element.\"\"\"\u001b[39;00m\n\u001b[1;32m---> 94\u001b[0m     \u001b[38;5;28;43mself\u001b[39;49m\u001b[38;5;241;43m.\u001b[39;49m\u001b[43m_execute\u001b[49m\u001b[43m(\u001b[49m\u001b[43mCommand\u001b[49m\u001b[38;5;241;43m.\u001b[39;49m\u001b[43mCLICK_ELEMENT\u001b[49m\u001b[43m)\u001b[49m\n",
      "File \u001b[1;32mc:\\automação\\venv\\Lib\\site-packages\\selenium\\webdriver\\remote\\webelement.py:395\u001b[0m, in \u001b[0;36mWebElement._execute\u001b[1;34m(self, command, params)\u001b[0m\n\u001b[0;32m    393\u001b[0m     params \u001b[38;5;241m=\u001b[39m {}\n\u001b[0;32m    394\u001b[0m params[\u001b[38;5;124m\"\u001b[39m\u001b[38;5;124mid\u001b[39m\u001b[38;5;124m\"\u001b[39m] \u001b[38;5;241m=\u001b[39m \u001b[38;5;28mself\u001b[39m\u001b[38;5;241m.\u001b[39m_id\n\u001b[1;32m--> 395\u001b[0m \u001b[38;5;28;01mreturn\u001b[39;00m \u001b[38;5;28;43mself\u001b[39;49m\u001b[38;5;241;43m.\u001b[39;49m\u001b[43m_parent\u001b[49m\u001b[38;5;241;43m.\u001b[39;49m\u001b[43mexecute\u001b[49m\u001b[43m(\u001b[49m\u001b[43mcommand\u001b[49m\u001b[43m,\u001b[49m\u001b[43m \u001b[49m\u001b[43mparams\u001b[49m\u001b[43m)\u001b[49m\n",
      "File \u001b[1;32mc:\\automação\\venv\\Lib\\site-packages\\selenium\\webdriver\\remote\\webdriver.py:354\u001b[0m, in \u001b[0;36mWebDriver.execute\u001b[1;34m(self, driver_command, params)\u001b[0m\n\u001b[0;32m    352\u001b[0m response \u001b[38;5;241m=\u001b[39m \u001b[38;5;28mself\u001b[39m\u001b[38;5;241m.\u001b[39mcommand_executor\u001b[38;5;241m.\u001b[39mexecute(driver_command, params)\n\u001b[0;32m    353\u001b[0m \u001b[38;5;28;01mif\u001b[39;00m response:\n\u001b[1;32m--> 354\u001b[0m     \u001b[38;5;28;43mself\u001b[39;49m\u001b[38;5;241;43m.\u001b[39;49m\u001b[43merror_handler\u001b[49m\u001b[38;5;241;43m.\u001b[39;49m\u001b[43mcheck_response\u001b[49m\u001b[43m(\u001b[49m\u001b[43mresponse\u001b[49m\u001b[43m)\u001b[49m\n\u001b[0;32m    355\u001b[0m     response[\u001b[38;5;124m\"\u001b[39m\u001b[38;5;124mvalue\u001b[39m\u001b[38;5;124m\"\u001b[39m] \u001b[38;5;241m=\u001b[39m \u001b[38;5;28mself\u001b[39m\u001b[38;5;241m.\u001b[39m_unwrap_value(response\u001b[38;5;241m.\u001b[39mget(\u001b[38;5;124m\"\u001b[39m\u001b[38;5;124mvalue\u001b[39m\u001b[38;5;124m\"\u001b[39m, \u001b[38;5;28;01mNone\u001b[39;00m))\n\u001b[0;32m    356\u001b[0m     \u001b[38;5;28;01mreturn\u001b[39;00m response\n",
      "File \u001b[1;32mc:\\automação\\venv\\Lib\\site-packages\\selenium\\webdriver\\remote\\errorhandler.py:229\u001b[0m, in \u001b[0;36mErrorHandler.check_response\u001b[1;34m(self, response)\u001b[0m\n\u001b[0;32m    227\u001b[0m         alert_text \u001b[38;5;241m=\u001b[39m value[\u001b[38;5;124m\"\u001b[39m\u001b[38;5;124malert\u001b[39m\u001b[38;5;124m\"\u001b[39m]\u001b[38;5;241m.\u001b[39mget(\u001b[38;5;124m\"\u001b[39m\u001b[38;5;124mtext\u001b[39m\u001b[38;5;124m\"\u001b[39m)\n\u001b[0;32m    228\u001b[0m     \u001b[38;5;28;01mraise\u001b[39;00m exception_class(message, screen, stacktrace, alert_text)  \u001b[38;5;66;03m# type: ignore[call-arg]  # mypy is not smart enough here\u001b[39;00m\n\u001b[1;32m--> 229\u001b[0m \u001b[38;5;28;01mraise\u001b[39;00m exception_class(message, screen, stacktrace)\n",
      "\u001b[1;31mElementClickInterceptedException\u001b[0m: Message: element click intercepted: Element <span class=\"ng-tns-c64-43 p-dropdown-label p-inputtext p-placeholder ng-star-inserted\">...</span> is not clickable at point (149, 16). Other element would receive the click: <a href=\"./\" class=\"logo-container\">...</a>\n  (Session info: chrome=126.0.6478.127)\nStacktrace:\n\tGetHandleVerifier [0x00007FF6AE2DEEA2+31554]\n\t(No symbol) [0x00007FF6AE257ED9]\n\t(No symbol) [0x00007FF6AE11872A]\n\t(No symbol) [0x00007FF6AE17012E]\n\t(No symbol) [0x00007FF6AE16DAF2]\n\t(No symbol) [0x00007FF6AE16AF8B]\n\t(No symbol) [0x00007FF6AE16A156]\n\t(No symbol) [0x00007FF6AE15C151]\n\t(No symbol) [0x00007FF6AE18D02A]\n\t(No symbol) [0x00007FF6AE15BA76]\n\t(No symbol) [0x00007FF6AE18D240]\n\t(No symbol) [0x00007FF6AE1AC977]\n\t(No symbol) [0x00007FF6AE18CDD3]\n\t(No symbol) [0x00007FF6AE15A33B]\n\t(No symbol) [0x00007FF6AE15AED1]\n\tGetHandleVerifier [0x00007FF6AE5E8B1D+3217341]\n\tGetHandleVerifier [0x00007FF6AE635AE3+3532675]\n\tGetHandleVerifier [0x00007FF6AE62B0E0+3489152]\n\tGetHandleVerifier [0x00007FF6AE38E776+750614]\n\t(No symbol) [0x00007FF6AE26375F]\n\t(No symbol) [0x00007FF6AE25EB14]\n\t(No symbol) [0x00007FF6AE25ECA2]\n\t(No symbol) [0x00007FF6AE24E16F]\n\tBaseThreadInitThunk [0x00007FFB7D0D7374+20]\n\tRtlUserThreadStart [0x00007FFB7D77CC91+33]\n"
     ]
    }
   ],
   "source": [
    "from selenium import webdriver\n",
    "from selenium.webdriver.common.by import By\n",
    "from selenium.webdriver.common.keys import Keys\n",
    "from selenium.webdriver.support.ui import WebDriverWait\n",
    "from selenium.webdriver.support import expected_conditions as EC\n",
    "import time\n",
    "\n",
    "# Configurar o driver do Chrome\n",
    "driver = webdriver.Chrome()\n",
    "\n",
    "# Abrir o navegador e acessar a página\n",
    "driver.get('http://10.0.2.193:4000')\n",
    "driver.maximize_window()\n",
    "\n",
    "# Identificar os campos de login\n",
    "usuario = WebDriverWait(driver, 10).until(\n",
    "    EC.presence_of_element_located((By.CSS_SELECTOR, 'input[formcontrolname=\"username\"]'))\n",
    ")\n",
    "senha = driver.find_element(By.CSS_SELECTOR, 'input[formcontrolname=\"password\"]')\n",
    "\n",
    "# Realizar login\n",
    "usuario.clear()\n",
    "usuario.send_keys('05573761900')\n",
    "senha.clear()\n",
    "senha.send_keys('791536aA')\n",
    "senha.send_keys(Keys.ENTER)\n",
    "\n",
    "# Aguardar até que o menu de cadastros esteja presente\n",
    "menucadastros = WebDriverWait(driver, 20).until(\n",
    "    EC.presence_of_element_located((By.CSS_SELECTOR, 'app-menu > ul > li:nth-child(2) > a'))\n",
    ")\n",
    "menucadastros.click()\n",
    "\n",
    "# Aguardar até que o submenu de empresas esteja presente e clicar nele\n",
    "submenuempresas = WebDriverWait(driver, 20).until(\n",
    "    EC.element_to_be_clickable((By.CSS_SELECTOR, 'a[href=\"#/registration/companys\"]'))\n",
    ")\n",
    "submenuempresas.click()\n",
    "\n",
    "# Tentar localizar e clicar no botão \"Novo\" usando o texto do botão\n",
    "novoempresa = WebDriverWait(driver, 20).until(\n",
    "    EC.element_to_be_clickable((By.XPATH, '//span[text()=\"Novo\"]'))\n",
    ")\n",
    "novoempresa.click()\n",
    "\n",
    "# Identificar os campos do formulário\n",
    "razaosocial = WebDriverWait(driver, 20).until(\n",
    "    EC.presence_of_element_located((By.CSS_SELECTOR, 'input[formcontrolname=\"corporateName\"]'))\n",
    ")\n",
    "cnpj = driver.find_element(By.CSS_SELECTOR, 'input[formcontrolname=\"document\"]')\n",
    "emailempresa = driver.find_element(By.CSS_SELECTOR, 'input[formcontrolname=\"email\"]')\n",
    "adicionaremailempresa = driver.find_element(By.CSS_SELECTOR, 'div:nth-child(9) > div:nth-child(3) > button')\n",
    "\n",
    "# Preenchendo os campos\n",
    "razaosocial.send_keys('SEGURANÇA FORTE')\n",
    "cnpj.send_keys('63647511000110')\n",
    "emailempresa.send_keys('testesoftware2@siam.ind.br')\n",
    "adicionaremailempresa.click()\n",
    "\n",
    "# Selecionar estado\n",
    "uf = WebDriverWait(driver, 20).until(\n",
    "    EC.presence_of_element_located((By.CSS_SELECTOR, 'div:nth-child(5) > div.p-col-12.p-md-12 > div:nth-child(2) > p-dropdown > div > span'))\n",
    ")\n",
    "uf.click()\n",
    "uf_option = WebDriverWait(driver, 20).until(\n",
    "    EC.presence_of_element_located((By.CSS_SELECTOR, 'p-dropdownitem:nth-child(24) > li > span'))\n",
    ")\n",
    "uf_option.click()\n",
    "\n",
    "# Adicione qualquer ação adicional necessária aqui, como salvar o formulário\n",
    "\n",
    "# Aguarde alguns segundos antes de fechar o navegador (opcional)\n",
    "time.sleep(5)\n",
    "\n",
    "# Fechar o navegador\n",
    "driver.quit()"
   ]
  }
 ],
 "metadata": {
  "kernelspec": {
   "display_name": "venv",
   "language": "python",
   "name": "python3"
  },
  "language_info": {
   "codemirror_mode": {
    "name": "ipython",
    "version": 3
   },
   "file_extension": ".py",
   "mimetype": "text/x-python",
   "name": "python",
   "nbconvert_exporter": "python",
   "pygments_lexer": "ipython3",
   "version": "3.12.3"
  }
 },
 "nbformat": 4,
 "nbformat_minor": 2
}
